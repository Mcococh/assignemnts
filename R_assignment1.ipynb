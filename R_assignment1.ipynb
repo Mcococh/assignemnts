{
 "cells": [
  {
   "cell_type": "markdown",
   "metadata": {},
   "source": [
    "# Graded assignment 1\n",
    "\n",
    "Mark Klik & Misja Mikkers\n",
    "\n",
    "\n",
    "# Packages\n",
    "\n",
    "We need the package `tidyverse`"
   ]
  },
  {
   "cell_type": "code",
   "execution_count": 25,
   "metadata": {},
   "outputs": [],
   "source": [
    "library(tidyverse) "
   ]
  },
  {
   "cell_type": "markdown",
   "metadata": {},
   "source": [
    "# Assignment 1\n",
    "\n",
    "First, we generate some random data:"
   ]
  },
  {
   "cell_type": "code",
   "execution_count": 26,
   "metadata": {},
   "outputs": [
    {
     "data": {
      "text/html": [
       "<table>\n",
       "<thead><tr><th scope=col>V1</th><th scope=col>V2</th><th scope=col>V3</th><th scope=col>V4</th><th scope=col>V5</th><th scope=col>V6</th><th scope=col>V7</th><th scope=col>V8</th><th scope=col>V9</th><th scope=col>V10</th><th scope=col>V11</th><th scope=col>V12</th><th scope=col>V13</th><th scope=col>V14</th><th scope=col>V15</th><th scope=col>V16</th><th scope=col>V17</th><th scope=col>V18</th><th scope=col>V19</th><th scope=col>V20</th></tr></thead>\n",
       "<tbody>\n",
       "\t<tr><td>0.4206504 </td><td>0.4745417 </td><td>0.7307129 </td><td>0.2368384 </td><td>0.4226366 </td><td>0.5669675 </td><td>0.8183943 </td><td>0.2586114 </td><td>0.6788866 </td><td>0.6622689 </td><td>0.6267735 </td><td>0.6291043 </td><td>0.2887843 </td><td>0.9803132 </td><td>0.8614988 </td><td>0.7058019 </td><td>0.8285982 </td><td>0.5279042 </td><td>0.8738485 </td><td>0.64830156</td></tr>\n",
       "\t<tr><td>0.8670497 </td><td>0.9420153 </td><td>0.3438697 </td><td>0.9959931 </td><td>0.8055860 </td><td>0.1984244 </td><td>0.5125790 </td><td>0.9244986 </td><td>0.5477910 </td><td>0.8317046 </td><td>0.8568455 </td><td>0.4787390 </td><td>0.3810195 </td><td>0.9999293 </td><td>0.1175396 </td><td>0.1079199 </td><td>0.8395915 </td><td>0.1246322 </td><td>0.3818108 </td><td>0.04209364</td></tr>\n",
       "</tbody>\n",
       "</table>\n"
      ],
      "text/latex": [
       "\\begin{tabular}{r|llllllllllllllllllll}\n",
       " V1 & V2 & V3 & V4 & V5 & V6 & V7 & V8 & V9 & V10 & V11 & V12 & V13 & V14 & V15 & V16 & V17 & V18 & V19 & V20\\\\\n",
       "\\hline\n",
       "\t 0.4206504  & 0.4745417  & 0.7307129  & 0.2368384  & 0.4226366  & 0.5669675  & 0.8183943  & 0.2586114  & 0.6788866  & 0.6622689  & 0.6267735  & 0.6291043  & 0.2887843  & 0.9803132  & 0.8614988  & 0.7058019  & 0.8285982  & 0.5279042  & 0.8738485  & 0.64830156\\\\\n",
       "\t 0.8670497  & 0.9420153  & 0.3438697  & 0.9959931  & 0.8055860  & 0.1984244  & 0.5125790  & 0.9244986  & 0.5477910  & 0.8317046  & 0.8568455  & 0.4787390  & 0.3810195  & 0.9999293  & 0.1175396  & 0.1079199  & 0.8395915  & 0.1246322  & 0.3818108  & 0.04209364\\\\\n",
       "\\end{tabular}\n"
      ],
      "text/markdown": [
       "\n",
       "V1 | V2 | V3 | V4 | V5 | V6 | V7 | V8 | V9 | V10 | V11 | V12 | V13 | V14 | V15 | V16 | V17 | V18 | V19 | V20 | \n",
       "|---|---|\n",
       "| 0.4206504  | 0.4745417  | 0.7307129  | 0.2368384  | 0.4226366  | 0.5669675  | 0.8183943  | 0.2586114  | 0.6788866  | 0.6622689  | 0.6267735  | 0.6291043  | 0.2887843  | 0.9803132  | 0.8614988  | 0.7058019  | 0.8285982  | 0.5279042  | 0.8738485  | 0.64830156 | \n",
       "| 0.8670497  | 0.9420153  | 0.3438697  | 0.9959931  | 0.8055860  | 0.1984244  | 0.5125790  | 0.9244986  | 0.5477910  | 0.8317046  | 0.8568455  | 0.4787390  | 0.3810195  | 0.9999293  | 0.1175396  | 0.1079199  | 0.8395915  | 0.1246322  | 0.3818108  | 0.04209364 | \n",
       "\n",
       "\n"
      ],
      "text/plain": [
       "  V1        V2        V3        V4        V5        V6        V7       \n",
       "1 0.4206504 0.4745417 0.7307129 0.2368384 0.4226366 0.5669675 0.8183943\n",
       "2 0.8670497 0.9420153 0.3438697 0.9959931 0.8055860 0.1984244 0.5125790\n",
       "  V8        V9        V10       V11       V12       V13       V14      \n",
       "1 0.2586114 0.6788866 0.6622689 0.6267735 0.6291043 0.2887843 0.9803132\n",
       "2 0.9244986 0.5477910 0.8317046 0.8568455 0.4787390 0.3810195 0.9999293\n",
       "  V15       V16       V17       V18       V19       V20       \n",
       "1 0.8614988 0.7058019 0.8285982 0.5279042 0.8738485 0.64830156\n",
       "2 0.1175396 0.1079199 0.8395915 0.1246322 0.3818108 0.04209364"
      ]
     },
     "metadata": {},
     "output_type": "display_data"
    }
   ],
   "source": [
    "df1 <- as.data.frame(matrix(runif(20*2), ncol=20) )\n",
    "head(df1)"
   ]
  },
  {
   "cell_type": "markdown",
   "metadata": {},
   "source": [
    "_df1_ is a wide dataframe. The goal of the assignment is to change _df1_ into a long dataframe _df2_. And show the first rows of the dataframe using `head(df2)`\n",
    "\n",
    "The dataframe _df2_ should look like this:\n",
    "\n",
    "| Key | Value      |\n",
    "|-----|------------|\n",
    "| V1  | 0.09413864 |\n",
    "| V1  | 0.69782526 |\n",
    "| V2  | 0.23460454 |\n",
    "| V2  | 0.51520514 |\n",
    "| V3  | 0.63181844 |\n",
    "| V3  | 0.22807211 |"
   ]
  },
  {
   "cell_type": "code",
   "execution_count": 27,
   "metadata": {},
   "outputs": [
    {
     "data": {
      "text/html": [
       "<table>\n",
       "<thead><tr><th scope=col>Key</th><th scope=col>Value</th></tr></thead>\n",
       "<tbody>\n",
       "\t<tr><td>V1       </td><td>0.4206504</td></tr>\n",
       "\t<tr><td>V1       </td><td>0.8670497</td></tr>\n",
       "\t<tr><td>V2       </td><td>0.4745417</td></tr>\n",
       "\t<tr><td>V2       </td><td>0.9420153</td></tr>\n",
       "\t<tr><td>V3       </td><td>0.7307129</td></tr>\n",
       "\t<tr><td>V3       </td><td>0.3438697</td></tr>\n",
       "</tbody>\n",
       "</table>\n"
      ],
      "text/latex": [
       "\\begin{tabular}{r|ll}\n",
       " Key & Value\\\\\n",
       "\\hline\n",
       "\t V1        & 0.4206504\\\\\n",
       "\t V1        & 0.8670497\\\\\n",
       "\t V2        & 0.4745417\\\\\n",
       "\t V2        & 0.9420153\\\\\n",
       "\t V3        & 0.7307129\\\\\n",
       "\t V3        & 0.3438697\\\\\n",
       "\\end{tabular}\n"
      ],
      "text/markdown": [
       "\n",
       "Key | Value | \n",
       "|---|---|---|---|---|---|\n",
       "| V1        | 0.4206504 | \n",
       "| V1        | 0.8670497 | \n",
       "| V2        | 0.4745417 | \n",
       "| V2        | 0.9420153 | \n",
       "| V3        | 0.7307129 | \n",
       "| V3        | 0.3438697 | \n",
       "\n",
       "\n"
      ],
      "text/plain": [
       "  Key Value    \n",
       "1 V1  0.4206504\n",
       "2 V1  0.8670497\n",
       "3 V2  0.4745417\n",
       "4 V2  0.9420153\n",
       "5 V3  0.7307129\n",
       "6 V3  0.3438697"
      ]
     },
     "metadata": {},
     "output_type": "display_data"
    }
   ],
   "source": [
    "df2 <- df1 %>% gather(Key, Value, V1:V20)\n",
    "  \n",
    "\n",
    "head(df2)"
   ]
  },
  {
   "cell_type": "code",
   "execution_count": null,
   "metadata": {},
   "outputs": [],
   "source": []
  },
  {
   "cell_type": "markdown",
   "metadata": {},
   "source": [
    "## Assignment 2\n",
    "\n",
    "We will generate some data:"
   ]
  },
  {
   "cell_type": "code",
   "execution_count": 28,
   "metadata": {},
   "outputs": [
    {
     "data": {
      "text/html": [
       "<table>\n",
       "<thead><tr><th scope=col>id</th><th scope=col>V_1</th><th scope=col>V_2</th></tr></thead>\n",
       "<tbody>\n",
       "\t<tr><td>1        </td><td>42.46757 </td><td>-87.81005</td></tr>\n",
       "\t<tr><td>2        </td><td>42.04915 </td><td>-88.27303</td></tr>\n",
       "\t<tr><td>3        </td><td>39.11054 </td><td>-90.32408</td></tr>\n",
       "</tbody>\n",
       "</table>\n"
      ],
      "text/latex": [
       "\\begin{tabular}{r|lll}\n",
       " id & V\\_1 & V\\_2\\\\\n",
       "\\hline\n",
       "\t 1         & 42.46757  & -87.81005\\\\\n",
       "\t 2         & 42.04915  & -88.27303\\\\\n",
       "\t 3         & 39.11054  & -90.32408\\\\\n",
       "\\end{tabular}\n"
      ],
      "text/markdown": [
       "\n",
       "id | V_1 | V_2 | \n",
       "|---|---|---|\n",
       "| 1         | 42.46757  | -87.81005 | \n",
       "| 2         | 42.04915  | -88.27303 | \n",
       "| 3         | 39.11054  | -90.32408 | \n",
       "\n",
       "\n"
      ],
      "text/plain": [
       "  id V_1      V_2      \n",
       "1 1  42.46757 -87.81005\n",
       "2 2  42.04915 -88.27303\n",
       "3 3  39.11054 -90.32408"
      ]
     },
     "metadata": {},
     "output_type": "display_data"
    }
   ],
   "source": [
    "df3 <- as.data.frame(read.table(header=TRUE, text='\n",
    "      id        V_1       V_2                \n",
    "          1  42.467573  -87.810047     \n",
    "          2  42.049148  -88.273029\n",
    "          3  39.110539  -90.324080\n",
    "                       '))\n",
    "\n",
    "head(df3)"
   ]
  },
  {
   "cell_type": "code",
   "execution_count": 29,
   "metadata": {},
   "outputs": [
    {
     "data": {
      "text/html": [
       "<table>\n",
       "<thead><tr><th scope=col>V_3</th><th scope=col>V_4</th><th scope=col>id</th></tr></thead>\n",
       "<tbody>\n",
       "\t<tr><td>one  </td><td>1h   </td><td>1    </td></tr>\n",
       "\t<tr><td>two  </td><td>1h   </td><td>1    </td></tr>\n",
       "\t<tr><td>three</td><td>8h   </td><td>2    </td></tr>\n",
       "\t<tr><td>four </td><td>1h   </td><td>4    </td></tr>\n",
       "</tbody>\n",
       "</table>\n"
      ],
      "text/latex": [
       "\\begin{tabular}{r|lll}\n",
       " V\\_3 & V\\_4 & id\\\\\n",
       "\\hline\n",
       "\t one   & 1h    & 1    \\\\\n",
       "\t two   & 1h    & 1    \\\\\n",
       "\t three & 8h    & 2    \\\\\n",
       "\t four  & 1h    & 4    \\\\\n",
       "\\end{tabular}\n"
      ],
      "text/markdown": [
       "\n",
       "V_3 | V_4 | id | \n",
       "|---|---|---|---|\n",
       "| one   | 1h    | 1     | \n",
       "| two   | 1h    | 1     | \n",
       "| three | 8h    | 2     | \n",
       "| four  | 1h    | 4     | \n",
       "\n",
       "\n"
      ],
      "text/plain": [
       "  V_3   V_4 id\n",
       "1 one   1h  1 \n",
       "2 two   1h  1 \n",
       "3 three 8h  2 \n",
       "4 four  1h  4 "
      ]
     },
     "metadata": {},
     "output_type": "display_data"
    }
   ],
   "source": [
    "df4 <- as.data.frame(read.table(header=TRUE, text='\n",
    "     V_3            V_4         id                 \n",
    "      one         1h            1\n",
    "      two         1h            1\n",
    "      three       8h            2\n",
    "      four        1h            4\n",
    "'))\n",
    "\n",
    "head(df4)"
   ]
  },
  {
   "cell_type": "markdown",
   "metadata": {},
   "source": [
    "\n",
    "You will have to merge these files, returning all rows and all columns from both _df3_ and _df5_. Where there are not matching values, return _NA_ for the missings. \n",
    "\n",
    "This should be the end result:\n",
    "\n",
    "| id | V_1      | V_2       | V_3   | V_4 |\n",
    "|----|----------|-----------|-------|-----|\n",
    "| 1  | 42.46757 | -87.81005 | one   | 1h  |\n",
    "| 1  | 42.46757 | -87.81005 | two   | 1h  |\n",
    "| 2  | 42.04915 | -88.27303 | three | 8h  |\n",
    "| 3  | 39.11054 | -90.32408 | NA    | NA  |\n",
    "| 4  | NA       | NA        | four  | 1h  |\n",
    "\n"
   ]
  },
  {
   "cell_type": "code",
   "execution_count": 30,
   "metadata": {},
   "outputs": [
    {
     "data": {
      "text/html": [
       "<table>\n",
       "<thead><tr><th scope=col>id</th><th scope=col>V_1</th><th scope=col>V_2</th><th scope=col>V_3</th><th scope=col>V_4</th></tr></thead>\n",
       "<tbody>\n",
       "\t<tr><td>1        </td><td>42.46757 </td><td>-87.81005</td><td>one      </td><td>1h       </td></tr>\n",
       "\t<tr><td>1        </td><td>42.46757 </td><td>-87.81005</td><td>two      </td><td>1h       </td></tr>\n",
       "\t<tr><td>2        </td><td>42.04915 </td><td>-88.27303</td><td>three    </td><td>8h       </td></tr>\n",
       "\t<tr><td>3        </td><td>39.11054 </td><td>-90.32408</td><td>NA       </td><td>NA       </td></tr>\n",
       "\t<tr><td>4        </td><td>      NA </td><td>       NA</td><td>four     </td><td>1h       </td></tr>\n",
       "</tbody>\n",
       "</table>\n"
      ],
      "text/latex": [
       "\\begin{tabular}{r|lllll}\n",
       " id & V\\_1 & V\\_2 & V\\_3 & V\\_4\\\\\n",
       "\\hline\n",
       "\t 1         & 42.46757  & -87.81005 & one       & 1h       \\\\\n",
       "\t 1         & 42.46757  & -87.81005 & two       & 1h       \\\\\n",
       "\t 2         & 42.04915  & -88.27303 & three     & 8h       \\\\\n",
       "\t 3         & 39.11054  & -90.32408 & NA        & NA       \\\\\n",
       "\t 4         &       NA  &        NA & four      & 1h       \\\\\n",
       "\\end{tabular}\n"
      ],
      "text/markdown": [
       "\n",
       "id | V_1 | V_2 | V_3 | V_4 | \n",
       "|---|---|---|---|---|\n",
       "| 1         | 42.46757  | -87.81005 | one       | 1h        | \n",
       "| 1         | 42.46757  | -87.81005 | two       | 1h        | \n",
       "| 2         | 42.04915  | -88.27303 | three     | 8h        | \n",
       "| 3         | 39.11054  | -90.32408 | NA        | NA        | \n",
       "| 4         |       NA  |        NA | four      | 1h        | \n",
       "\n",
       "\n"
      ],
      "text/plain": [
       "  id V_1      V_2       V_3   V_4\n",
       "1 1  42.46757 -87.81005 one   1h \n",
       "2 1  42.46757 -87.81005 two   1h \n",
       "3 2  42.04915 -88.27303 three 8h \n",
       "4 3  39.11054 -90.32408 NA    NA \n",
       "5 4        NA        NA four  1h "
      ]
     },
     "metadata": {},
     "output_type": "display_data"
    }
   ],
   "source": [
    "df5 <- merge(df3, df4, all.x=TRUE, all.y=TRUE)\n",
    "df5"
   ]
  },
  {
   "cell_type": "markdown",
   "metadata": {},
   "source": [
    "End of notebook"
   ]
  }
 ],
 "metadata": {
  "anaconda-cloud": {},
  "kernelspec": {
   "display_name": "R",
   "language": "R",
   "name": "ir"
  },
  "language_info": {
   "codemirror_mode": "r",
   "file_extension": ".r",
   "mimetype": "text/x-r-source",
   "name": "R",
   "pygments_lexer": "r",
   "version": "3.5.0"
  }
 },
 "nbformat": 4,
 "nbformat_minor": 1
}
