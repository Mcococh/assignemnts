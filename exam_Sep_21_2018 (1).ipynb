{
 "cells": [
  {
   "cell_type": "markdown",
   "metadata": {},
   "source": [
    "Before you turn this problem in, make sure everything runs as expected. First, **restart the kernel** (in the menubar, select Kernel$\\rightarrow$Restart) and then **run all cells** (in the menubar, select Cell$\\rightarrow$Run All).\n",
    "\n",
    "Make sure you fill in any place that says `YOUR CODE HERE` or \"YOUR ANSWER HERE\", as well as your name and collaborators below:"
   ]
  },
  {
   "cell_type": "code",
   "execution_count": 121,
   "metadata": {},
   "outputs": [],
   "source": [
    "NAME = \"Marija Aleksic #2010670# #606834#\"\n",
    "COLLABORATORS = \"\""
   ]
  },
  {
   "cell_type": "markdown",
   "metadata": {},
   "source": [
    "---"
   ]
  },
  {
   "cell_type": "markdown",
   "metadata": {
    "deletable": false,
    "editable": false,
    "nbgrader": {
     "checksum": "e53eb7da4b90cccdbeb5924177a0d295",
     "grade": false,
     "grade_id": "cell-bace731f185b39bb",
     "locked": true,
     "schema_version": 1,
     "solution": false
    }
   },
   "source": [
    "Fill in the cell above to provide us with your name and student number, like\n",
    "\n",
    "NAME = \"Adam Smith, #student number#\"\n",
    "\n",
    "where you replace \"#student number#\" with your ... (very good!)\n",
    "\n",
    "Unfortunately, you are not allowed to work with \"COLLABORATORS\" in this exam."
   ]
  },
  {
   "cell_type": "markdown",
   "metadata": {
    "deletable": false,
    "editable": false,
    "nbgrader": {
     "checksum": "54f2a7cc5a4285f9082c5f4f2ff532f6",
     "grade": false,
     "grade_id": "cell-895e9a7b94992ec9",
     "locked": true,
     "schema_version": 1,
     "solution": false
    }
   },
   "source": [
    "# exam September 21st, 2018\n",
    "\n",
    "With this python part of the exam you can earn at max. 4 points.\n",
    "\n"
   ]
  },
  {
   "cell_type": "markdown",
   "metadata": {
    "deletable": false,
    "editable": false,
    "nbgrader": {
     "checksum": "611902f9d15318425217ea7c9329d3c4",
     "grade": false,
     "grade_id": "cell-540987818af25557",
     "locked": true,
     "schema_version": 1,
     "solution": false
    }
   },
   "source": [
    "\n",
    "In the first cell of the notebook, give us your name and student number in the way indicated above. \n",
    "\n",
    "Fill in the notebook (see below for code cells and text cells that you need to fill in).\n",
    "\n",
    "If you look at the menus above (File, Edit, View etc.), there is one called \"Cell\". If you click on this, you can change the \"Cell Type\". Choose \"Code\" when you are typing python or R code. Choose \"Markdown\" when you are typing, well, markdown.\n",
    "\n",
    "When you finish the notebook, make sure that you **save it with the output of your code included**. \n",
    "\n",
    "Then put it on github, e.g. by dragging it onto github (see instructions below). \n",
    "\n",
    "Finally, add a link to your README file with the name of this exam: \"Exam September 21, 2018\".\n",
    "\n"
   ]
  },
  {
   "cell_type": "markdown",
   "metadata": {
    "deletable": false,
    "editable": false,
    "nbgrader": {
     "checksum": "fbb9342b1fc9100447270d34e2af2d0b",
     "grade": false,
     "grade_id": "cell-e1cf88cb799f1f43",
     "locked": true,
     "schema_version": 1,
     "solution": false
    }
   },
   "source": [
    "## Generating and plotting data\n",
    "\n",
    "We start by importing the usual libraries."
   ]
  },
  {
   "cell_type": "code",
   "execution_count": 122,
   "metadata": {
    "deletable": false,
    "editable": false,
    "nbgrader": {
     "checksum": "7bd770ef54db47c3b6c8d0e31f6baef6",
     "grade": false,
     "grade_id": "cell-b895769bf40e183a",
     "locked": true,
     "schema_version": 1,
     "solution": false
    }
   },
   "outputs": [],
   "source": [
    "import matplotlib.pyplot as plt\n",
    "import pandas as pd\n",
    "import numpy as np\n",
    "from scipy import optimize\n",
    "%matplotlib inline"
   ]
  },
  {
   "cell_type": "markdown",
   "metadata": {
    "deletable": false,
    "editable": false,
    "nbgrader": {
     "checksum": "1133b2e8cbde213d1adfe10ae743bcb3",
     "grade": false,
     "grade_id": "cell-83284c4090d6de8c",
     "locked": true,
     "schema_version": 1,
     "solution": false
    }
   },
   "source": [
    "#### a) [0.5 point] Explain in words what the following code does. "
   ]
  },
  {
   "cell_type": "code",
   "execution_count": 123,
   "metadata": {
    "deletable": false,
    "editable": false,
    "nbgrader": {
     "checksum": "bc85672d4250f9fa3da40069544edd8a",
     "grade": false,
     "grade_id": "cell-7770128c0a989c60",
     "locked": true,
     "schema_version": 1,
     "solution": false
    }
   },
   "outputs": [],
   "source": [
    "n_observations = 100\n",
    "x = np.random.uniform(0,2,size=n_observations)\n",
    "df = pd.DataFrame({'x': x})"
   ]
  },
  {
   "cell_type": "code",
   "execution_count": 124,
   "metadata": {},
   "outputs": [
    {
     "name": "stdout",
     "output_type": "stream",
     "text": [
      "           x\n",
      "0   1.181848\n",
      "1   0.108428\n",
      "2   1.785740\n",
      "3   0.565610\n",
      "4   0.918366\n",
      "5   1.846570\n",
      "6   1.296616\n",
      "7   1.084413\n",
      "8   0.691732\n",
      "9   0.646115\n",
      "10  0.653618\n",
      "11  0.452553\n",
      "12  1.518994\n",
      "13  0.488115\n",
      "14  0.665968\n",
      "15  0.367659\n",
      "16  0.883996\n",
      "17  1.455094\n",
      "18  1.795122\n",
      "19  1.011983\n",
      "20  0.899623\n",
      "21  0.024607\n",
      "22  1.291429\n",
      "23  0.535710\n",
      "24  1.529739\n",
      "25  1.846695\n",
      "26  0.396674\n",
      "27  0.512870\n",
      "28  1.783765\n",
      "29  1.614946\n",
      "..       ...\n",
      "70  1.710483\n",
      "71  1.277016\n",
      "72  0.971644\n",
      "73  0.011201\n",
      "74  1.268785\n",
      "75  1.324321\n",
      "76  1.777557\n",
      "77  1.572119\n",
      "78  0.699432\n",
      "79  1.542831\n",
      "80  1.425294\n",
      "81  0.876220\n",
      "82  0.070444\n",
      "83  0.290819\n",
      "84  0.386898\n",
      "85  0.703788\n",
      "86  1.858859\n",
      "87  0.615017\n",
      "88  0.307880\n",
      "89  0.415639\n",
      "90  0.005171\n",
      "91  0.800076\n",
      "92  0.777539\n",
      "93  0.851978\n",
      "94  0.353991\n",
      "95  1.322839\n",
      "96  0.976483\n",
      "97  0.770670\n",
      "98  0.351344\n",
      "99  0.675428\n",
      "\n",
      "[100 rows x 1 columns]\n"
     ]
    }
   ],
   "source": [
    "print(df)"
   ]
  },
  {
   "cell_type": "markdown",
   "metadata": {
    "deletable": false,
    "nbgrader": {
     "checksum": "cae5873581f8c1e95ad12b5596742e37",
     "grade": true,
     "grade_id": "cell-8a5761555a34b60b",
     "locked": false,
     "points": 0.5,
     "schema_version": 1,
     "solution": true
    }
   },
   "source": [
    "#The code draws 100 observations by random and uniform distribution, and on x axes we can see space of 20%(or 0.2) where y axes is represented by the size of 100 observations\n"
   ]
  },
  {
   "cell_type": "markdown",
   "metadata": {
    "deletable": false,
    "editable": false,
    "nbgrader": {
     "checksum": "30021008cb6073d160066f0435f60950",
     "grade": false,
     "grade_id": "cell-1a9c57d4d1fc34dc",
     "locked": true,
     "schema_version": 1,
     "solution": false
    }
   },
   "source": [
    "Now we are going to add some columns to the dataframe `df`."
   ]
  },
  {
   "cell_type": "markdown",
   "metadata": {
    "deletable": false,
    "editable": false,
    "nbgrader": {
     "checksum": "89171c99b0cc926935c561c0e75d0eef",
     "grade": false,
     "grade_id": "cell-3b8ee172d9950128",
     "locked": true,
     "schema_version": 1,
     "solution": false
    }
   },
   "source": [
    "#### b) [0.5 points] Add two columns to the data frame: (i) column `y` where $y=3*x+5$ and (ii) column `z` where $z = (x-1)^2$."
   ]
  },
  {
   "cell_type": "code",
   "execution_count": 125,
   "metadata": {
    "deletable": false,
    "nbgrader": {
     "checksum": "3b93c97ec42f6da5773b2c6beb2a8ec2",
     "grade": true,
     "grade_id": "cell-a5e7853f661e19b2",
     "locked": false,
     "points": 0.5,
     "schema_version": 1,
     "solution": true
    }
   },
   "outputs": [
    {
     "name": "stdout",
     "output_type": "stream",
     "text": [
      "          0.033069 0.794900 0.617387 0.188695 0.006664 0.716680 0.087981  \\\n",
      "8.545544       NaN      NaN      NaN      NaN      NaN      NaN      NaN   \n",
      "5.325285       NaN      NaN      NaN      NaN      NaN      NaN      NaN   \n",
      "10.357219      NaN      NaN      NaN      NaN      NaN      NaN      NaN   \n",
      "6.696830       NaN      NaN      NaN      NaN      NaN      NaN      NaN   \n",
      "7.755099       NaN      NaN      NaN      NaN      NaN      NaN      NaN   \n",
      "10.539709      NaN      NaN      NaN      NaN      NaN      NaN      NaN   \n",
      "8.889847       NaN      NaN      NaN      NaN      NaN      NaN      NaN   \n",
      "8.253238       NaN      NaN      NaN      NaN      NaN      NaN      NaN   \n",
      "7.075196       NaN      NaN      NaN      NaN      NaN      NaN      NaN   \n",
      "6.938345       NaN      NaN      NaN      NaN      NaN      NaN      NaN   \n",
      "6.960853       NaN      NaN      NaN      NaN      NaN      NaN      NaN   \n",
      "6.357658       NaN      NaN      NaN      NaN      NaN      NaN      NaN   \n",
      "9.556981       NaN      NaN      NaN      NaN      NaN      NaN      NaN   \n",
      "6.464346       NaN      NaN      NaN      NaN      NaN      NaN      NaN   \n",
      "6.997904       NaN      NaN      NaN      NaN      NaN      NaN      NaN   \n",
      "6.102976       NaN      NaN      NaN      NaN      NaN      NaN      NaN   \n",
      "7.651989       NaN      NaN      NaN      NaN      NaN      NaN      NaN   \n",
      "9.365281       NaN      NaN      NaN      NaN      NaN      NaN      NaN   \n",
      "10.385367      NaN      NaN      NaN      NaN      NaN      NaN      NaN   \n",
      "8.035950       NaN      NaN      NaN      NaN      NaN      NaN      NaN   \n",
      "7.698868       NaN      NaN      NaN      NaN      NaN      NaN      NaN   \n",
      "5.073820       NaN      NaN      NaN      NaN      NaN      NaN      NaN   \n",
      "8.874288       NaN      NaN      NaN      NaN      NaN      NaN      NaN   \n",
      "6.607131       NaN      NaN      NaN      NaN      NaN      NaN      NaN   \n",
      "9.589217       NaN      NaN      NaN      NaN      NaN      NaN      NaN   \n",
      "10.540085      NaN      NaN      NaN      NaN      NaN      NaN      NaN   \n",
      "6.190022       NaN      NaN      NaN      NaN      NaN      NaN      NaN   \n",
      "6.538611       NaN      NaN      NaN      NaN      NaN      NaN      NaN   \n",
      "10.351294      NaN      NaN      NaN      NaN      NaN      NaN      NaN   \n",
      "9.844839       NaN      NaN      NaN      NaN      NaN      NaN      NaN   \n",
      "...            ...      ...      ...      ...      ...      ...      ...   \n",
      "10.131449      NaN      NaN      NaN      NaN      NaN      NaN      NaN   \n",
      "8.831047       NaN      NaN      NaN      NaN      NaN      NaN      NaN   \n",
      "7.914933       NaN      NaN      NaN      NaN      NaN      NaN      NaN   \n",
      "5.033602       NaN      NaN      NaN      NaN      NaN      NaN      NaN   \n",
      "8.806356       NaN      NaN      NaN      NaN      NaN      NaN      NaN   \n",
      "8.972964       NaN      NaN      NaN      NaN      NaN      NaN      NaN   \n",
      "10.332672      NaN      NaN      NaN      NaN      NaN      NaN      NaN   \n",
      "9.716356       NaN      NaN      NaN      NaN      NaN      NaN      NaN   \n",
      "7.098295       NaN      NaN      NaN      NaN      NaN      NaN      NaN   \n",
      "9.628492       NaN      NaN      NaN      NaN      NaN      NaN      NaN   \n",
      "9.275883       NaN      NaN      NaN      NaN      NaN      NaN      NaN   \n",
      "7.628661       NaN      NaN      NaN      NaN      NaN      NaN      NaN   \n",
      "5.211333       NaN      NaN      NaN      NaN      NaN      NaN      NaN   \n",
      "5.872458       NaN      NaN      NaN      NaN      NaN      NaN      NaN   \n",
      "6.160693       NaN      NaN      NaN      NaN      NaN      NaN      NaN   \n",
      "7.111365       NaN      NaN      NaN      NaN      NaN      NaN      NaN   \n",
      "10.576578      NaN      NaN      NaN      NaN      NaN      NaN      NaN   \n",
      "6.845051       NaN      NaN      NaN      NaN      NaN      NaN      NaN   \n",
      "5.923639       NaN      NaN      NaN      NaN      NaN      NaN      NaN   \n",
      "6.246916       NaN      NaN      NaN      NaN      NaN      NaN      NaN   \n",
      "5.015512       NaN      NaN      NaN      NaN      NaN      NaN      NaN   \n",
      "7.400229       NaN      NaN      NaN      NaN      NaN      NaN      NaN   \n",
      "7.332617       NaN      NaN      NaN      NaN      NaN      NaN      NaN   \n",
      "7.555933       NaN      NaN      NaN      NaN      NaN      NaN      NaN   \n",
      "6.061974       NaN      NaN      NaN      NaN      NaN      NaN      NaN   \n",
      "8.968516       NaN      NaN      NaN      NaN      NaN      NaN      NaN   \n",
      "7.929448       NaN      NaN      NaN      NaN      NaN      NaN      NaN   \n",
      "7.312009       NaN      NaN      NaN      NaN      NaN      NaN      NaN   \n",
      "6.054032       NaN      NaN      NaN      NaN      NaN      NaN      NaN   \n",
      "7.026285       NaN      NaN      NaN      NaN      NaN      NaN      NaN   \n",
      "\n",
      "          0.007125 0.095029 0.125235   ...    0.989685 0.039969 0.049489  \\\n",
      "8.545544       NaN      NaN      NaN   ...         NaN      NaN      NaN   \n",
      "5.325285       NaN      NaN      NaN   ...         NaN      NaN      NaN   \n",
      "10.357219      NaN      NaN      NaN   ...         NaN      NaN      NaN   \n",
      "6.696830       NaN      NaN      NaN   ...         NaN      NaN      NaN   \n",
      "7.755099       NaN      NaN      NaN   ...         NaN      NaN      NaN   \n",
      "10.539709      NaN      NaN      NaN   ...         NaN      NaN      NaN   \n",
      "8.889847       NaN      NaN      NaN   ...         NaN      NaN      NaN   \n",
      "8.253238       NaN      NaN      NaN   ...         NaN      NaN      NaN   \n",
      "7.075196       NaN      NaN      NaN   ...         NaN      NaN      NaN   \n",
      "6.938345       NaN      NaN      NaN   ...         NaN      NaN      NaN   \n",
      "6.960853       NaN      NaN      NaN   ...         NaN      NaN      NaN   \n",
      "6.357658       NaN      NaN      NaN   ...         NaN      NaN      NaN   \n",
      "9.556981       NaN      NaN      NaN   ...         NaN      NaN      NaN   \n",
      "6.464346       NaN      NaN      NaN   ...         NaN      NaN      NaN   \n",
      "6.997904       NaN      NaN      NaN   ...         NaN      NaN      NaN   \n",
      "6.102976       NaN      NaN      NaN   ...         NaN      NaN      NaN   \n",
      "7.651989       NaN      NaN      NaN   ...         NaN      NaN      NaN   \n",
      "9.365281       NaN      NaN      NaN   ...         NaN      NaN      NaN   \n",
      "10.385367      NaN      NaN      NaN   ...         NaN      NaN      NaN   \n",
      "8.035950       NaN      NaN      NaN   ...         NaN      NaN      NaN   \n",
      "7.698868       NaN      NaN      NaN   ...         NaN      NaN      NaN   \n",
      "5.073820       NaN      NaN      NaN   ...         NaN      NaN      NaN   \n",
      "8.874288       NaN      NaN      NaN   ...         NaN      NaN      NaN   \n",
      "6.607131       NaN      NaN      NaN   ...         NaN      NaN      NaN   \n",
      "9.589217       NaN      NaN      NaN   ...         NaN      NaN      NaN   \n",
      "10.540085      NaN      NaN      NaN   ...         NaN      NaN      NaN   \n",
      "6.190022       NaN      NaN      NaN   ...         NaN      NaN      NaN   \n",
      "6.538611       NaN      NaN      NaN   ...         NaN      NaN      NaN   \n",
      "10.351294      NaN      NaN      NaN   ...         NaN      NaN      NaN   \n",
      "9.844839       NaN      NaN      NaN   ...         NaN      NaN      NaN   \n",
      "...            ...      ...      ...   ...         ...      ...      ...   \n",
      "10.131449      NaN      NaN      NaN   ...         NaN      NaN      NaN   \n",
      "8.831047       NaN      NaN      NaN   ...         NaN      NaN      NaN   \n",
      "7.914933       NaN      NaN      NaN   ...         NaN      NaN      NaN   \n",
      "5.033602       NaN      NaN      NaN   ...         NaN      NaN      NaN   \n",
      "8.806356       NaN      NaN      NaN   ...         NaN      NaN      NaN   \n",
      "8.972964       NaN      NaN      NaN   ...         NaN      NaN      NaN   \n",
      "10.332672      NaN      NaN      NaN   ...         NaN      NaN      NaN   \n",
      "9.716356       NaN      NaN      NaN   ...         NaN      NaN      NaN   \n",
      "7.098295       NaN      NaN      NaN   ...         NaN      NaN      NaN   \n",
      "9.628492       NaN      NaN      NaN   ...         NaN      NaN      NaN   \n",
      "9.275883       NaN      NaN      NaN   ...         NaN      NaN      NaN   \n",
      "7.628661       NaN      NaN      NaN   ...         NaN      NaN      NaN   \n",
      "5.211333       NaN      NaN      NaN   ...         NaN      NaN      NaN   \n",
      "5.872458       NaN      NaN      NaN   ...         NaN      NaN      NaN   \n",
      "6.160693       NaN      NaN      NaN   ...         NaN      NaN      NaN   \n",
      "7.111365       NaN      NaN      NaN   ...         NaN      NaN      NaN   \n",
      "10.576578      NaN      NaN      NaN   ...         NaN      NaN      NaN   \n",
      "6.845051       NaN      NaN      NaN   ...         NaN      NaN      NaN   \n",
      "5.923639       NaN      NaN      NaN   ...         NaN      NaN      NaN   \n",
      "6.246916       NaN      NaN      NaN   ...         NaN      NaN      NaN   \n",
      "5.015512       NaN      NaN      NaN   ...         NaN      NaN      NaN   \n",
      "7.400229       NaN      NaN      NaN   ...         NaN      NaN      NaN   \n",
      "7.332617       NaN      NaN      NaN   ...         NaN      NaN      NaN   \n",
      "7.555933       NaN      NaN      NaN   ...         NaN      NaN      NaN   \n",
      "6.061974       NaN      NaN      NaN   ...         NaN      NaN      NaN   \n",
      "8.968516       NaN      NaN      NaN   ...         NaN      NaN      NaN   \n",
      "7.929448       NaN      NaN      NaN   ...         NaN      NaN      NaN   \n",
      "7.312009       NaN      NaN      NaN   ...         NaN      NaN      NaN   \n",
      "6.054032       NaN      NaN      NaN   ...         NaN      NaN      NaN   \n",
      "7.026285       NaN      NaN      NaN   ...         NaN      NaN      NaN   \n",
      "\n",
      "          0.021911 0.417327 0.104225 0.000553 0.052592 0.420754 0.105347  \n",
      "8.545544       NaN      NaN      NaN      NaN      NaN      NaN      NaN  \n",
      "5.325285       NaN      NaN      NaN      NaN      NaN      NaN      NaN  \n",
      "10.357219      NaN      NaN      NaN      NaN      NaN      NaN      NaN  \n",
      "6.696830       NaN      NaN      NaN      NaN      NaN      NaN      NaN  \n",
      "7.755099       NaN      NaN      NaN      NaN      NaN      NaN      NaN  \n",
      "10.539709      NaN      NaN      NaN      NaN      NaN      NaN      NaN  \n",
      "8.889847       NaN      NaN      NaN      NaN      NaN      NaN      NaN  \n",
      "8.253238       NaN      NaN      NaN      NaN      NaN      NaN      NaN  \n",
      "7.075196       NaN      NaN      NaN      NaN      NaN      NaN      NaN  \n",
      "6.938345       NaN      NaN      NaN      NaN      NaN      NaN      NaN  \n",
      "6.960853       NaN      NaN      NaN      NaN      NaN      NaN      NaN  \n",
      "6.357658       NaN      NaN      NaN      NaN      NaN      NaN      NaN  \n",
      "9.556981       NaN      NaN      NaN      NaN      NaN      NaN      NaN  \n",
      "6.464346       NaN      NaN      NaN      NaN      NaN      NaN      NaN  \n",
      "6.997904       NaN      NaN      NaN      NaN      NaN      NaN      NaN  \n",
      "6.102976       NaN      NaN      NaN      NaN      NaN      NaN      NaN  \n",
      "7.651989       NaN      NaN      NaN      NaN      NaN      NaN      NaN  \n",
      "9.365281       NaN      NaN      NaN      NaN      NaN      NaN      NaN  \n",
      "10.385367      NaN      NaN      NaN      NaN      NaN      NaN      NaN  \n",
      "8.035950       NaN      NaN      NaN      NaN      NaN      NaN      NaN  \n",
      "7.698868       NaN      NaN      NaN      NaN      NaN      NaN      NaN  \n",
      "5.073820       NaN      NaN      NaN      NaN      NaN      NaN      NaN  \n",
      "8.874288       NaN      NaN      NaN      NaN      NaN      NaN      NaN  \n",
      "6.607131       NaN      NaN      NaN      NaN      NaN      NaN      NaN  \n",
      "9.589217       NaN      NaN      NaN      NaN      NaN      NaN      NaN  \n",
      "10.540085      NaN      NaN      NaN      NaN      NaN      NaN      NaN  \n",
      "6.190022       NaN      NaN      NaN      NaN      NaN      NaN      NaN  \n",
      "6.538611       NaN      NaN      NaN      NaN      NaN      NaN      NaN  \n",
      "10.351294      NaN      NaN      NaN      NaN      NaN      NaN      NaN  \n",
      "9.844839       NaN      NaN      NaN      NaN      NaN      NaN      NaN  \n",
      "...            ...      ...      ...      ...      ...      ...      ...  \n",
      "10.131449      NaN      NaN      NaN      NaN      NaN      NaN      NaN  \n",
      "8.831047       NaN      NaN      NaN      NaN      NaN      NaN      NaN  \n",
      "7.914933       NaN      NaN      NaN      NaN      NaN      NaN      NaN  \n",
      "5.033602       NaN      NaN      NaN      NaN      NaN      NaN      NaN  \n",
      "8.806356       NaN      NaN      NaN      NaN      NaN      NaN      NaN  \n",
      "8.972964       NaN      NaN      NaN      NaN      NaN      NaN      NaN  \n",
      "10.332672      NaN      NaN      NaN      NaN      NaN      NaN      NaN  \n",
      "9.716356       NaN      NaN      NaN      NaN      NaN      NaN      NaN  \n",
      "7.098295       NaN      NaN      NaN      NaN      NaN      NaN      NaN  \n",
      "9.628492       NaN      NaN      NaN      NaN      NaN      NaN      NaN  \n",
      "9.275883       NaN      NaN      NaN      NaN      NaN      NaN      NaN  \n",
      "7.628661       NaN      NaN      NaN      NaN      NaN      NaN      NaN  \n",
      "5.211333       NaN      NaN      NaN      NaN      NaN      NaN      NaN  \n",
      "5.872458       NaN      NaN      NaN      NaN      NaN      NaN      NaN  \n",
      "6.160693       NaN      NaN      NaN      NaN      NaN      NaN      NaN  \n",
      "7.111365       NaN      NaN      NaN      NaN      NaN      NaN      NaN  \n",
      "10.576578      NaN      NaN      NaN      NaN      NaN      NaN      NaN  \n",
      "6.845051       NaN      NaN      NaN      NaN      NaN      NaN      NaN  \n",
      "5.923639       NaN      NaN      NaN      NaN      NaN      NaN      NaN  \n",
      "6.246916       NaN      NaN      NaN      NaN      NaN      NaN      NaN  \n",
      "5.015512       NaN      NaN      NaN      NaN      NaN      NaN      NaN  \n",
      "7.400229       NaN      NaN      NaN      NaN      NaN      NaN      NaN  \n",
      "7.332617       NaN      NaN      NaN      NaN      NaN      NaN      NaN  \n",
      "7.555933       NaN      NaN      NaN      NaN      NaN      NaN      NaN  \n",
      "6.061974       NaN      NaN      NaN      NaN      NaN      NaN      NaN  \n",
      "8.968516       NaN      NaN      NaN      NaN      NaN      NaN      NaN  \n",
      "7.929448       NaN      NaN      NaN      NaN      NaN      NaN      NaN  \n",
      "7.312009       NaN      NaN      NaN      NaN      NaN      NaN      NaN  \n",
      "6.054032       NaN      NaN      NaN      NaN      NaN      NaN      NaN  \n",
      "7.026285       NaN      NaN      NaN      NaN      NaN      NaN      NaN  \n",
      "\n",
      "[100 rows x 100 columns]\n"
     ]
    }
   ],
   "source": [
    " y=3*x + 5\n",
    "z= (x-1)**2\n",
    "\n",
    "df = pd.DataFrame({'x': x}, y, z)\n",
    "print(df)"
   ]
  },
  {
   "cell_type": "markdown",
   "metadata": {
    "deletable": false,
    "editable": false,
    "nbgrader": {
     "checksum": "42f4e83dc3792b0d2a08cda8eb7d4405",
     "grade": false,
     "grade_id": "cell-4b33762aa4a601fe",
     "locked": true,
     "schema_version": 1,
     "solution": false
    }
   },
   "source": [
    "#### c) [0.5 point] Calculate the means and standard deviations for `x` and `y`. \n",
    "\n",
    "[hint: you can do this with one command or with four separate commands]"
   ]
  },
  {
   "cell_type": "code",
   "execution_count": 126,
   "metadata": {
    "deletable": false,
    "nbgrader": {
     "checksum": "024a1519155d681b57c85292df535a65",
     "grade": true,
     "grade_id": "cell-5ee215676b91f504",
     "locked": false,
     "points": 0.5,
     "schema_version": 1,
     "solution": true
    }
   },
   "outputs": [
    {
     "name": "stdout",
     "output_type": "stream",
     "text": [
      "0.9429397214763003\n",
      "7.828819164428902\n",
      "0.5412910660101607\n",
      "1.6238731980304824\n"
     ]
    }
   ],
   "source": [
    "xmean = np.mean(x)\n",
    "ymean = np.mean(y)\n",
    "xstd = np.std(x)\n",
    "ystd = np.std(y)\n",
    "print(xmean)\n",
    "print(ymean)\n",
    "print(xstd)\n",
    "print(ystd)"
   ]
  },
  {
   "cell_type": "markdown",
   "metadata": {
    "deletable": false,
    "editable": false,
    "nbgrader": {
     "checksum": "12a2717f05680c0404067457f21dacc5",
     "grade": false,
     "grade_id": "cell-3cc076ae39753881",
     "locked": true,
     "schema_version": 1,
     "solution": false
    }
   },
   "source": [
    "#### d) [0.5 points] Use your knowledge of statistics to explain the relations (i) between the means of `x` and `y` and (ii) between the standard deviations of `x` and `y`."
   ]
  },
  {
   "cell_type": "code",
   "execution_count": 127,
   "metadata": {
    "deletable": false,
    "nbgrader": {
     "checksum": "6ac5f7f87f79a5a580298b70eb6603c6",
     "grade": true,
     "grade_id": "cell-0f18e4fded25833f",
     "locked": false,
     "points": 0.5,
     "schema_version": 1,
     "solution": true
    }
   },
   "outputs": [],
   "source": [
    "#X mean is lower and it should be lower since it is randomly distributed from population od 100, and therefore standard deviation is also lower than with Y\n",
    "#When calculating Y mean we are taking into account 3*mean(x) + 5 which will for sure result in a higher number, and standard deviation is absolute value of 3 * std(x), which also explains why this number is larger."
   ]
  },
  {
   "cell_type": "markdown",
   "metadata": {},
   "source": [
    "#### e) [1 point] Plot a histogram of `x` with fractions (not absolute numbers) on the vertical axis. Add the label $x$ to the horizontal axis."
   ]
  },
  {
   "cell_type": "code",
   "execution_count": 128,
   "metadata": {
    "deletable": false,
    "nbgrader": {
     "checksum": "0f23770a6c058f433beccc75429b57dc",
     "grade": true,
     "grade_id": "cell-e88dc4842fb2c38c",
     "locked": false,
     "points": 1,
     "schema_version": 1,
     "solution": true
    }
   },
   "outputs": [
    {
     "ename": "TypeError",
     "evalue": "'str' object is not callable",
     "output_type": "error",
     "traceback": [
      "\u001b[1;31m---------------------------------------------------------------------------\u001b[0m",
      "\u001b[1;31mTypeError\u001b[0m                                 Traceback (most recent call last)",
      "\u001b[1;32m<ipython-input-128-44215368932f>\u001b[0m in \u001b[0;36m<module>\u001b[1;34m()\u001b[0m\n\u001b[0;32m      1\u001b[0m \u001b[0mplt\u001b[0m\u001b[1;33m.\u001b[0m\u001b[0mhist\u001b[0m\u001b[1;33m(\u001b[0m\u001b[0mx\u001b[0m\u001b[1;33m/\u001b[0m\u001b[0mn_observations\u001b[0m\u001b[1;33m,\u001b[0m \u001b[0mbins\u001b[0m\u001b[1;33m=\u001b[0m\u001b[1;34m'auto'\u001b[0m\u001b[1;33m)\u001b[0m\u001b[1;33m\u001b[0m\u001b[0m\n\u001b[1;32m----> 2\u001b[1;33m \u001b[0mplt\u001b[0m\u001b[1;33m.\u001b[0m\u001b[0mxlabel\u001b[0m\u001b[1;33m(\u001b[0m\u001b[1;34m'x'\u001b[0m\u001b[1;33m)\u001b[0m\u001b[1;33m\u001b[0m\u001b[0m\n\u001b[0m\u001b[0;32m      3\u001b[0m \u001b[0mplt\u001b[0m\u001b[1;33m.\u001b[0m\u001b[0mshow\u001b[0m\u001b[1;33m(\u001b[0m\u001b[1;33m)\u001b[0m\u001b[1;33m\u001b[0m\u001b[0m\n",
      "\u001b[1;31mTypeError\u001b[0m: 'str' object is not callable"
     ]
    },
    {
     "data": {
      "image/png": "[encoded data removed]",
      "text/plain": [
       "<Figure size 432x288 with 1 Axes>"
      ]
     },
     "metadata": {},
     "output_type": "display_data"
    }
   ],
   "source": [
    "plt.hist(x/n_observations, bins='auto')\n",
    "plt.xlabel('x')\n",
    "plt.show()"
   ]
  },
  {
   "cell_type": "markdown",
   "metadata": {
    "deletable": false,
    "editable": false,
    "nbgrader": {
     "checksum": "da92092c0fc6badf93776373de6f98c0",
     "grade": false,
     "grade_id": "cell-9847a5147fc6bc0b",
     "locked": true,
     "schema_version": 1,
     "solution": false
    }
   },
   "source": [
    "#### f) [0.5 points] Make a scatter plot of `y` vs `z` with the label $y$ on the horizontal axis and the label $z$ on the vertical axis."
   ]
  },
  {
   "cell_type": "code",
   "execution_count": 129,
   "metadata": {
    "deletable": false,
    "nbgrader": {
     "checksum": "d9385c965608e0babffe255a7d375e19",
     "grade": true,
     "grade_id": "cell-6c036cfb38c024d3",
     "locked": false,
     "points": 0.5,
     "schema_version": 1,
     "solution": true
    }
   },
   "outputs": [
    {
     "data": {
      "image/png": "[encoded data removed]",
      "text/plain": [
       "<Figure size 432x288 with 1 Axes>"
      ]
     },
     "metadata": {},
     "output_type": "display_data"
    }
   ],
   "source": [
    "plt.figure()\n",
    "plt.plot(y,z, 'o', color='black')\n",
    "plt.xlabel = ('$y$')\n",
    "plt.ylabel = ('$z$')\n",
    "plt.show()"
   ]
  },
  {
   "cell_type": "markdown",
   "metadata": {},
   "source": [
    "This relation looks rather \"perfect\". We want to make a \"noisy\" version of this graph.\n",
    "\n",
    "#### g) [0.5 points] Create a variable `z2` equal to `z` but with some \"noise\" added to it. That is, add a random variable (vector) with mean 0 to `z` to get `z2`. Then plot `y` against `z2`. Adjust the standard deviation of the \"noise\" variable such that the shape of the figure under f) can still be recognized but not perfectly.\n",
    "\n",
    "[hint: under a) you have seen the library that contains functions to create a \"noisy variable\"]"
   ]
  },
  {
   "cell_type": "code",
   "execution_count": 130,
   "metadata": {
    "deletable": false,
    "nbgrader": {
     "checksum": "86b22fc81cb0732c67f8ae691dc00bcb",
     "grade": true,
     "grade_id": "cell-7fa47e5d66a06417",
     "locked": false,
     "points": 0.5,
     "schema_version": 1,
     "solution": true
    }
   },
   "outputs": [
    {
     "data": {
      "image/png": "[encoded data removed]",
      "text/plain": [
       "<Figure size 432x288 with 1 Axes>"
      ]
     },
     "metadata": {},
     "output_type": "display_data"
    }
   ],
   "source": [
    "noise_variable = np.random.normal(0,1,100)\n",
    "z2 = z + noise_variable\n",
    "plt.plot(z2, y, 'o', color='black')\n",
    "plt.show()"
   ]
  },
  {
   "cell_type": "markdown",
   "metadata": {},
   "source": [
    "## Github\n",
    "\n",
    "After you have finished, we need to upload this notebook on github."
   ]
  },
  {
   "cell_type": "markdown",
   "metadata": {},
   "source": [
    "Instructions on how to upload this on github can be found [on this page](http://janboone.github.io/programming-for-economists/github.html). This page has two screencasts: one shows how to drag the notebook onto your github page, the other shows how you can use the command line to upload your notebook.\n"
   ]
  },
  {
   "cell_type": "markdown",
   "metadata": {},
   "source": [
    "Remember to update the README file in your repository to include a link to this notebook on github.\n",
    "\n",
    "\n",
    "The links that you should post start with “github.com/” and are NOT of the form “http://localhost”. Make sure you test your links after uploading."
   ]
  },
  {
   "cell_type": "code",
   "execution_count": null,
   "metadata": {},
   "outputs": [],
   "source": []
  }
 ],
 "metadata": {
  "anaconda-cloud": {},
  "kernelspec": {
   "display_name": "Python 3",
   "language": "python",
   "name": "python3"
  },
  "language_info": {
   "codemirror_mode": {
    "name": "ipython",
    "version": 3
   },
   "file_extension": ".py",
   "mimetype": "text/x-python",
   "name": "python",
   "nbconvert_exporter": "python",
   "pygments_lexer": "ipython3",
   "version": "3.6.5"
  }
 },
 "nbformat": 4,
 "nbformat_minor": 1
}
